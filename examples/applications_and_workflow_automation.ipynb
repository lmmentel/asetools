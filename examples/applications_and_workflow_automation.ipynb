{
 "cells": [
  {
   "cell_type": "markdown",
   "metadata": {},
   "source": [
    "<h1 style=\"text-align:center\"> Applications and workflow automation </h1>"
   ]
  },
  {
   "cell_type": "code",
   "execution_count": 1,
   "metadata": {
    "collapsed": true
   },
   "outputs": [],
   "source": [
    "from asetools.db import (get_session, DBAtom, System, SystemNote, atoms2system, get_atoms,\n",
    "                         DBCalculator, calculator2db, ASETemplate)\n",
    "from ase.visualize import view\n",
    "import ase.io"
   ]
  },
  {
   "cell_type": "code",
   "execution_count": 3,
   "metadata": {
    "collapsed": true
   },
   "outputs": [],
   "source": [
    "dbpath = 'mytest.db'\n",
    "session = get_session(dbpath)"
   ]
  },
  {
   "cell_type": "markdown",
   "metadata": {},
   "source": [
    "# AseTemplate vs ASETemplate"
   ]
  },
  {
   "cell_type": "code",
   "execution_count": 4,
   "metadata": {
    "collapsed": true
   },
   "outputs": [],
   "source": [
    "from asetools import AseTemplate"
   ]
  },
  {
   "cell_type": "code",
   "execution_count": 5,
   "metadata": {
    "collapsed": true
   },
   "outputs": [],
   "source": [
    "dbtempate = session.query(ASETemplate).first()"
   ]
  },
  {
   "cell_type": "code",
   "execution_count": 6,
   "metadata": {
    "collapsed": false
   },
   "outputs": [
    {
     "data": {
      "text/plain": [
       "u'geometry relaxation'"
      ]
     },
     "execution_count": 6,
     "metadata": {},
     "output_type": "execute_result"
    }
   ],
   "source": [
    "dbtempate.name"
   ]
  },
  {
   "cell_type": "code",
   "execution_count": 7,
   "metadata": {
    "collapsed": false
   },
   "outputs": [
    {
     "name": "stdout",
     "output_type": "stream",
     "text": [
      "\n",
      "#!/bin/env python\n",
      "\n",
      "import os\n",
      "import ase.io\n",
      "from espresso import espresso\n",
      "from ase.optimize import BFGS\n",
      "from asetools import set_init_magmoms\n",
      "\n",
      "atoms = ase.io.read('%atoms')\n",
      "\n",
      "set_init_magmoms(atoms, [])\n",
      "\n",
      "# Create vibration calculator\n",
      "calc = espresso(pw=%pw,\n",
      "                dw=%dw,\n",
      "                xc = \"BEEF-vdW\",\n",
      "                kpts = \"gamma\",\n",
      "                sigma = 0.1,\n",
      "                convergence={'energy':1e-10},\n",
      "                spinpol=False,\n",
      "                mode='scf', #single-point energy calculation per displacement\n",
      "                )\n",
      "\n",
      "atoms.set_calculator(calc)\n",
      "\n",
      "# optimize geometry\n",
      "qn = BFGS(atoms, logfile='geopt.log', trajectory='relaxed.traj')\n",
      "qn.run(fmax=0.01)\n",
      "\n"
     ]
    }
   ],
   "source": [
    "print dbtempate.template"
   ]
  },
  {
   "cell_type": "code",
   "execution_count": 8,
   "metadata": {
    "collapsed": true
   },
   "outputs": [],
   "source": [
    "atemp = AseTemplate(dbtempate.template)"
   ]
  },
  {
   "cell_type": "markdown",
   "metadata": {},
   "source": [
    "## what to substitute"
   ]
  },
  {
   "cell_type": "code",
   "execution_count": 9,
   "metadata": {
    "collapsed": false
   },
   "outputs": [
    {
     "data": {
      "text/plain": [
       "{'braced': [], 'escaped': [], 'invalid': [], 'named': [u'atoms', u'pw', u'dw']}"
      ]
     },
     "execution_count": 9,
     "metadata": {},
     "output_type": "execute_result"
    }
   ],
   "source": [
    "atemp.get_keys()"
   ]
  },
  {
   "cell_type": "markdown",
   "metadata": {},
   "source": [
    "## render"
   ]
  },
  {
   "cell_type": "code",
   "execution_count": 10,
   "metadata": {
    "collapsed": true
   },
   "outputs": [],
   "source": [
    "atemp.render_and_write({'atoms' : 'myfile.xyz', 'pw' : 500, 'dw' : 7000}, output='myscript.py')"
   ]
  },
  {
   "cell_type": "code",
   "execution_count": 11,
   "metadata": {
    "collapsed": false
   },
   "outputs": [
    {
     "name": "stdout",
     "output_type": "stream",
     "text": [
      "\r\n",
      "#!/bin/env python\r\n",
      "\r\n",
      "import os\r\n",
      "import ase.io\r\n",
      "from espresso import espresso\r\n",
      "from ase.optimize import BFGS\r\n",
      "from asetools import set_init_magmoms\r\n",
      "\r\n",
      "atoms = ase.io.read('myfile.xyz')\r\n",
      "\r\n",
      "set_init_magmoms(atoms, [])\r\n",
      "\r\n",
      "# Create vibration calculator\r\n",
      "calc = espresso(pw=500,\r\n",
      "                dw=7000,\r\n",
      "                xc = \"BEEF-vdW\",\r\n",
      "                kpts = \"gamma\",\r\n",
      "                sigma = 0.1,\r\n",
      "                convergence={'energy':1e-10},\r\n",
      "                spinpol=False,\r\n",
      "                mode='scf', #single-point energy calculation per displacement\r\n",
      "                )\r\n",
      "\r\n",
      "atoms.set_calculator(calc)\r\n",
      "\r\n",
      "# optimize geometry\r\n",
      "qn = BFGS(atoms, logfile='geopt.log', trajectory='relaxed.traj')\r\n",
      "qn.run(fmax=0.01)\r\n"
     ]
    }
   ],
   "source": [
    "!cat myscript.py"
   ]
  },
  {
   "cell_type": "markdown",
   "metadata": {},
   "source": [
    "# Reusing existing jobs to create new ones\n",
    "\n",
    "Get all the `Systems` that are metal substituted zeotypes with acid hyrogen attach CO and write the geometry and job script to a directory"
   ]
  },
  {
   "cell_type": "code",
   "execution_count": 12,
   "metadata": {
    "collapsed": true
   },
   "outputs": [],
   "source": [
    "from asetools import attach_molecule, create_single_job\n",
    "import os"
   ]
  },
  {
   "cell_type": "code",
   "execution_count": 13,
   "metadata": {
    "collapsed": true
   },
   "outputs": [],
   "source": [
    "systems = session.query(System).filter(System.name.like('%-H')).all()"
   ]
  },
  {
   "cell_type": "markdown",
   "metadata": {},
   "source": [
    "create new jobs - each calculation in its own directory\n",
    "\n",
    "read the CO geometry from file"
   ]
  },
  {
   "cell_type": "code",
   "execution_count": 14,
   "metadata": {
    "collapsed": false
   },
   "outputs": [],
   "source": [
    "co = ase.io.read('co.xyz')"
   ]
  },
  {
   "cell_type": "code",
   "execution_count": 15,
   "metadata": {
    "collapsed": true
   },
   "outputs": [],
   "source": [
    "os.mkdir('ZH-CO')\n",
    "os.chdir('ZH-CO')"
   ]
  },
  {
   "cell_type": "code",
   "execution_count": 17,
   "metadata": {
    "collapsed": false
   },
   "outputs": [
    {
     "name": "stderr",
     "output_type": "stream",
     "text": [
      "/home/lmentel/.virtualenvs/cat/local/lib/python2.7/site-packages/ase/atoms.py:529: FutureWarning: elementwise comparison failed; returning scalar instead, but in the future will perform elementwise comparison\n",
      "  if masses == 'defaults':\n"
     ]
    }
   ],
   "source": [
    "subs = {'pw' : 600, 'dw' : 7000, 'atoms' : 'initial.cif'}\n",
    "for system in systems:\n",
    "    atoms = get_atoms(session, system.id)\n",
    "    aco = attach_molecule(atoms, 144, co, theta=-30, r=2.7)\n",
    "\n",
    "    workdir = atoms.info['name'].replace('(', '_').replace(')', '') + '-CO'\n",
    "    create_single_job(workdir, aco, system.template.template, subs, jobname='relax.py')\n",
    "    submit.main(['relax.py', 'n', '2'])"
   ]
  },
  {
   "cell_type": "code",
   "execution_count": 18,
   "metadata": {
    "collapsed": false
   },
   "outputs": [
    {
     "name": "stdout",
     "output_type": "stream",
     "text": [
      "razem 328\r\n",
      "drwxr-xr-x 2 lmentel lmentel 4096 paź 21 11:58 \u001b[0m\u001b[1;35mAg_II-AlPO-5-H-CO\u001b[0m/\r\n",
      "drwxr-xr-x 2 lmentel lmentel 4096 paź 21 11:58 \u001b[1;35mAl_III-AFI-H-CO\u001b[0m/\r\n",
      "drwxr-xr-x 2 lmentel lmentel 4096 paź 21 11:58 \u001b[1;35mAs_III-AFI-H-CO\u001b[0m/\r\n",
      "drwxr-xr-x 2 lmentel lmentel 4096 paź 21 11:58 \u001b[1;35mBa_II-AlPO-5-H-CO\u001b[0m/\r\n",
      "drwxr-xr-x 2 lmentel lmentel 4096 paź 21 11:58 \u001b[1;35mBe_II-AlPO-5-H-CO\u001b[0m/\r\n",
      "drwxr-xr-x 2 lmentel lmentel 4096 paź 21 11:58 \u001b[1;35mB_III-AFI-H-CO\u001b[0m/\r\n",
      "drwxr-xr-x 2 lmentel lmentel 4096 paź 21 11:58 \u001b[1;35mBr_III-AFI-H-CO\u001b[0m/\r\n",
      "drwxr-xr-x 2 lmentel lmentel 4096 paź 21 11:58 \u001b[1;35mCa_II-AlPO-5-H-CO\u001b[0m/\r\n",
      "drwxr-xr-x 2 lmentel lmentel 4096 paź 21 11:58 \u001b[1;35mCd_II-AlPO-5-H-CO\u001b[0m/\r\n",
      "drwxr-xr-x 2 lmentel lmentel 4096 paź 21 11:58 \u001b[1;35mC_II-AlPO-5-H-CO\u001b[0m/\r\n",
      "drwxr-xr-x 2 lmentel lmentel 4096 paź 21 11:58 \u001b[1;35mC_IV-AlPO-5-H-CO\u001b[0m/\r\n",
      "drwxr-xr-x 2 lmentel lmentel 4096 paź 21 11:58 \u001b[1;35mCl_III-AFI-H-CO\u001b[0m/\r\n",
      "drwxr-xr-x 2 lmentel lmentel 4096 paź 21 11:58 \u001b[1;35mCo_II-AlPO-5-H-CO\u001b[0m/\r\n",
      "drwxr-xr-x 2 lmentel lmentel 4096 paź 21 11:58 \u001b[1;35mCo_III-AFI-H-CO\u001b[0m/\r\n",
      "drwxr-xr-x 2 lmentel lmentel 4096 paź 21 11:58 \u001b[1;35mCr_II-AlPO-5-H-CO\u001b[0m/\r\n",
      "drwxr-xr-x 2 lmentel lmentel 4096 paź 21 11:58 \u001b[1;35mCr_III-AFI-H-CO\u001b[0m/\r\n",
      "drwxr-xr-x 2 lmentel lmentel 4096 paź 21 11:58 \u001b[1;35mCu_II-AlPO-5-H-CO\u001b[0m/\r\n",
      "drwxr-xr-x 2 lmentel lmentel 4096 paź 21 11:58 \u001b[1;35mFe_II-AlPO-5-H-CO\u001b[0m/\r\n",
      "drwxr-xr-x 2 lmentel lmentel 4096 paź 21 11:58 \u001b[1;35mFe_III-AFI-H-CO\u001b[0m/\r\n",
      "drwxr-xr-x 2 lmentel lmentel 4096 paź 21 11:58 \u001b[1;35mGa_III-AFI-H-CO\u001b[0m/\r\n",
      "drwxr-xr-x 2 lmentel lmentel 4096 paź 21 11:58 \u001b[1;35mGe_IV-AlPO-5-H-CO\u001b[0m/\r\n",
      "drwxr-xr-x 2 lmentel lmentel 4096 paź 21 11:58 \u001b[1;35mHf_IV-AlPO-5-H-CO\u001b[0m/\r\n",
      "drwxr-xr-x 2 lmentel lmentel 4096 paź 21 11:58 \u001b[1;35mHg_II-AlPO-5-H-CO\u001b[0m/\r\n",
      "drwxr-xr-x 2 lmentel lmentel 4096 paź 21 11:58 \u001b[1;35mIn_III-AFI-H-CO\u001b[0m/\r\n",
      "drwxr-xr-x 2 lmentel lmentel 4096 paź 21 11:58 \u001b[1;35mIr_II-AlPO-5-H-CO\u001b[0m/\r\n",
      "drwxr-xr-x 2 lmentel lmentel 4096 paź 21 11:58 \u001b[1;35mIr_III-AFI-H-CO\u001b[0m/\r\n",
      "drwxr-xr-x 2 lmentel lmentel 4096 paź 21 11:58 \u001b[1;35mIr_IV-AlPO-5-H-CO\u001b[0m/\r\n",
      "drwxr-xr-x 2 lmentel lmentel 4096 paź 21 11:58 \u001b[1;35mMg_II-AlPO-5-H-CO\u001b[0m/\r\n",
      "drwxr-xr-x 2 lmentel lmentel 4096 paź 21 11:58 \u001b[1;35mMn_II-AlPO-5-H-CO\u001b[0m/\r\n",
      "drwxr-xr-x 2 lmentel lmentel 4096 paź 21 11:58 \u001b[1;35mMn_III-AFI-H-CO\u001b[0m/\r\n",
      "drwxr-xr-x 2 lmentel lmentel 4096 paź 21 11:58 \u001b[1;35mMn_IV-AlPO-5-H-CO\u001b[0m/\r\n",
      "drwxr-xr-x 2 lmentel lmentel 4096 paź 21 11:58 \u001b[1;35mMo_II-AlPO-5-H-CO\u001b[0m/\r\n",
      "drwxr-xr-x 2 lmentel lmentel 4096 paź 21 11:58 \u001b[1;35mMo_III-AFI-H-CO\u001b[0m/\r\n",
      "drwxr-xr-x 2 lmentel lmentel 4096 paź 21 11:58 \u001b[1;35mMo_IV-AlPO-5-H-CO\u001b[0m/\r\n",
      "drwxr-xr-x 2 lmentel lmentel 4096 paź 21 11:58 \u001b[1;35mNb_III-AFI-H-CO\u001b[0m/\r\n",
      "drwxr-xr-x 2 lmentel lmentel 4096 paź 21 11:58 \u001b[1;35mN_II-AlPO-5-H-CO\u001b[0m/\r\n",
      "drwxr-xr-x 2 lmentel lmentel 4096 paź 21 11:58 \u001b[1;35mN_III-AFI-H-CO\u001b[0m/\r\n",
      "drwxr-xr-x 2 lmentel lmentel 4096 paź 21 11:58 \u001b[1;35mNi_II-AlPO-5-H-CO\u001b[0m/\r\n",
      "drwxr-xr-x 2 lmentel lmentel 4096 paź 21 11:58 \u001b[1;35mNi_III-AFI-H-CO\u001b[0m/\r\n",
      "drwxr-xr-x 2 lmentel lmentel 4096 paź 21 11:58 \u001b[1;35mN_IV-AlPO-5-H-CO\u001b[0m/\r\n",
      "drwxr-xr-x 2 lmentel lmentel 4096 paź 21 11:58 \u001b[1;35mOs_II-AlPO-5-H-CO\u001b[0m/\r\n",
      "drwxr-xr-x 2 lmentel lmentel 4096 paź 21 11:58 \u001b[1;35mOs_III-AFI-H-CO\u001b[0m/\r\n",
      "drwxr-xr-x 2 lmentel lmentel 4096 paź 21 11:58 \u001b[1;35mOs_IV-AlPO-5-H-CO\u001b[0m/\r\n",
      "drwxr-xr-x 2 lmentel lmentel 4096 paź 21 11:58 \u001b[1;35mPb_II-AlPO-5-H-CO\u001b[0m/\r\n",
      "drwxr-xr-x 2 lmentel lmentel 4096 paź 21 11:58 \u001b[1;35mPb_IV-AlPO-5-H-CO\u001b[0m/\r\n",
      "drwxr-xr-x 2 lmentel lmentel 4096 paź 21 11:58 \u001b[1;35mPd_II-AlPO-5-H-CO\u001b[0m/\r\n",
      "drwxr-xr-x 2 lmentel lmentel 4096 paź 21 11:58 \u001b[1;35mPd_IV-AlPO-5-H-CO\u001b[0m/\r\n",
      "drwxr-xr-x 2 lmentel lmentel 4096 paź 21 11:58 \u001b[1;35mP_III-AFI-H-CO\u001b[0m/\r\n",
      "drwxr-xr-x 2 lmentel lmentel 4096 paź 21 11:58 \u001b[1;35mPt_II-AlPO-5-H-CO\u001b[0m/\r\n",
      "drwxr-xr-x 2 lmentel lmentel 4096 paź 21 11:58 \u001b[1;35mPt_IV-AlPO-5-H-CO\u001b[0m/\r\n",
      "drwxr-xr-x 2 lmentel lmentel 4096 paź 21 11:58 \u001b[1;35mRe_II-AlPO-5-H-CO\u001b[0m/\r\n",
      "drwxr-xr-x 2 lmentel lmentel 4096 paź 21 11:58 \u001b[1;35mRe_III-AFI-H-CO\u001b[0m/\r\n",
      "drwxr-xr-x 2 lmentel lmentel 4096 paź 21 11:58 \u001b[1;35mRe_IV-AlPO-5-H-CO\u001b[0m/\r\n",
      "drwxr-xr-x 2 lmentel lmentel 4096 paź 21 11:58 \u001b[1;35mRh_II-AlPO-5-H-CO\u001b[0m/\r\n",
      "drwxr-xr-x 2 lmentel lmentel 4096 paź 21 11:58 \u001b[1;35mRh_III-AFI-H-CO\u001b[0m/\r\n",
      "drwxr-xr-x 2 lmentel lmentel 4096 paź 21 11:58 \u001b[1;35mRh_IV-AlPO-5-H-CO\u001b[0m/\r\n",
      "drwxr-xr-x 2 lmentel lmentel 4096 paź 21 11:58 \u001b[1;35mRu_II-AlPO-5-H-CO\u001b[0m/\r\n",
      "drwxr-xr-x 2 lmentel lmentel 4096 paź 21 11:58 \u001b[1;35mRu_III-AFI-H-CO\u001b[0m/\r\n",
      "drwxr-xr-x 2 lmentel lmentel 4096 paź 21 11:58 \u001b[1;35mRu_IV-AlPO-5-H-CO\u001b[0m/\r\n",
      "drwxr-xr-x 2 lmentel lmentel 4096 paź 21 11:58 \u001b[1;35mSb_III-AFI-H-CO\u001b[0m/\r\n",
      "drwxr-xr-x 2 lmentel lmentel 4096 paź 21 11:58 \u001b[1;35mSc_III-AFI-H-CO\u001b[0m/\r\n",
      "drwxr-xr-x 2 lmentel lmentel 4096 paź 21 11:58 \u001b[1;35mSe_IV-AlPO-5-H-CO\u001b[0m/\r\n",
      "drwxr-xr-x 2 lmentel lmentel 4096 paź 21 11:58 \u001b[1;35mS_II-AlPO-5-H-CO\u001b[0m/\r\n",
      "drwxr-xr-x 2 lmentel lmentel 4096 paź 21 11:58 \u001b[1;35mSi_IV-AlPO-5-H-CO\u001b[0m/\r\n",
      "drwxr-xr-x 2 lmentel lmentel 4096 paź 21 11:58 \u001b[1;35mS_IV-AlPO-5-H-CO\u001b[0m/\r\n",
      "drwxr-xr-x 2 lmentel lmentel 4096 paź 21 11:58 \u001b[1;35mSn_II-AlPO-5-H-CO\u001b[0m/\r\n",
      "drwxr-xr-x 2 lmentel lmentel 4096 paź 21 11:58 \u001b[1;35mSn_IV-AlPO-5-H-CO\u001b[0m/\r\n",
      "drwxr-xr-x 2 lmentel lmentel 4096 paź 21 11:58 \u001b[1;35mSr_II-AlPO-5-H-CO\u001b[0m/\r\n",
      "drwxr-xr-x 2 lmentel lmentel 4096 paź 21 11:58 \u001b[1;35mTe_II-AlPO-5-H-CO\u001b[0m/\r\n",
      "drwxr-xr-x 2 lmentel lmentel 4096 paź 21 11:58 \u001b[1;35mTe_IV-AlPO-5-H-CO\u001b[0m/\r\n",
      "drwxr-xr-x 2 lmentel lmentel 4096 paź 21 11:58 \u001b[1;35mTi_III-AFI-H-CO\u001b[0m/\r\n",
      "drwxr-xr-x 2 lmentel lmentel 4096 paź 21 11:58 \u001b[1;35mTi_IV-AlPO-5-H-CO\u001b[0m/\r\n",
      "drwxr-xr-x 2 lmentel lmentel 4096 paź 21 11:58 \u001b[1;35mTl_III-AFI-H-CO\u001b[0m/\r\n",
      "drwxr-xr-x 2 lmentel lmentel 4096 paź 21 11:58 \u001b[1;35mV_II-AlPO-5-H-CO\u001b[0m/\r\n",
      "drwxr-xr-x 2 lmentel lmentel 4096 paź 21 11:58 \u001b[1;35mV_III-AFI-H-CO\u001b[0m/\r\n",
      "drwxr-xr-x 2 lmentel lmentel 4096 paź 21 11:58 \u001b[1;35mV_IV-AlPO-5-H-CO\u001b[0m/\r\n",
      "drwxr-xr-x 2 lmentel lmentel 4096 paź 21 11:58 \u001b[1;35mW_II-AlPO-5-H-CO\u001b[0m/\r\n",
      "drwxr-xr-x 2 lmentel lmentel 4096 paź 21 11:58 \u001b[1;35mW_III-AFI-H-CO\u001b[0m/\r\n",
      "drwxr-xr-x 2 lmentel lmentel 4096 paź 21 11:58 \u001b[1;35mW_IV-AlPO-5-H-CO\u001b[0m/\r\n",
      "drwxr-xr-x 2 lmentel lmentel 4096 paź 21 11:58 \u001b[1;35mY_III-AFI-H-CO\u001b[0m/\r\n",
      "drwxr-xr-x 2 lmentel lmentel 4096 paź 21 11:58 \u001b[1;35mZn_II-AlPO-5-H-CO\u001b[0m/\r\n",
      "drwxr-xr-x 2 lmentel lmentel 4096 paź 21 11:58 \u001b[1;35mZr_IV-AlPO-5-H-CO\u001b[0m/\r\n"
     ]
    }
   ],
   "source": [
    "%ls -l"
   ]
  },
  {
   "cell_type": "code",
   "execution_count": 19,
   "metadata": {
    "collapsed": false
   },
   "outputs": [
    {
     "name": "stdout",
     "output_type": "stream",
     "text": [
      "/home/lmentel/Devel/asetools/examples/ZH-CO/Zr_IV-AlPO-5-H-CO\n"
     ]
    }
   ],
   "source": [
    "%cd Zr_IV-AlPO-5-H-CO/"
   ]
  },
  {
   "cell_type": "code",
   "execution_count": 20,
   "metadata": {
    "collapsed": true
   },
   "outputs": [],
   "source": [
    "atoms = ase.io.read('initial.cif')\n",
    "view(atoms)"
   ]
  },
  {
   "cell_type": "markdown",
   "metadata": {},
   "source": [
    "# Remote access\n",
    "\n",
    "Run python notebook on a remote server (abel) through a tunnel and submit created jobs"
   ]
  },
  {
   "cell_type": "code",
   "execution_count": 1,
   "metadata": {
    "collapsed": false
   },
   "outputs": [
    {
     "name": "stdout",
     "output_type": "stream",
     "text": [
      "#!/bin/bash\r\n",
      "\r\n",
      "LOGIN1=10.110.21.7\r\n",
      "LOGIN2=10.110.21.8\r\n",
      "\r\n",
      "ssh -N -f -L localhost:7777:localhost:7777 lukaszme@abel.uio.no\r\n"
     ]
    }
   ],
   "source": [
    "!cat /home/lmentel/bin/tunnel2abel.sh"
   ]
  },
  {
   "cell_type": "markdown",
   "metadata": {},
   "source": [
    "# Preprocessing &  analysis"
   ]
  }
 ],
 "metadata": {
  "kernelspec": {
   "display_name": "Python 2",
   "language": "python",
   "name": "python2"
  },
  "language_info": {
   "codemirror_mode": {
    "name": "ipython",
    "version": 2
   },
   "file_extension": ".py",
   "mimetype": "text/x-python",
   "name": "python",
   "nbconvert_exporter": "python",
   "pygments_lexer": "ipython2",
   "version": "2.7.9"
  }
 },
 "nbformat": 4,
 "nbformat_minor": 0
}
